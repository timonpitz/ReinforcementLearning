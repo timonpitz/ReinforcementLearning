{
 "cells": [
  {
   "cell_type": "code",
   "execution_count": 1,
   "metadata": {},
   "outputs": [],
   "source": [
    "#!pip install numpy\n",
    "#!pip install gym\n",
    "#!pip install matplotlib\n",
    "import numpy as np\n",
    "import gym\n",
    "import matplotlib.pyplot as plt"
   ]
  },
  {
   "cell_type": "code",
   "execution_count": 2,
   "metadata": {},
   "outputs": [],
   "source": [
    "pos_buckets = np.linspace(-1.2, 0.6, 20)\n",
    "vel_buckets = np.linspace(-0.07, 0.07, 20)"
   ]
  },
  {
   "cell_type": "code",
   "execution_count": 3,
   "metadata": {},
   "outputs": [],
   "source": [
    "def toDiscreteStates(obs):\n",
    "    pos, vel = obs\n",
    "    pos_disc = np.digitize(pos, pos_buckets)\n",
    "    vel_disc = np.digitize(vel, vel_buckets)\n",
    "    \n",
    "    return(pos_disc, vel_disc)"
   ]
  },
  {
   "cell_type": "code",
   "execution_count": 4,
   "metadata": {},
   "outputs": [],
   "source": [
    "def get_action(Q, obs, actions=[0,1,2]):\n",
    "    if np.random.random() < eps:\n",
    "        action = np.random.choice([0,1,2])\n",
    "    else: \n",
    "        state = toDiscreteStates(obs)\n",
    "        values = []\n",
    "        for a in actions:\n",
    "            values.append(Q[state, a])\n",
    "\n",
    "        action = np.argmax(values)\n",
    "    \n",
    "    return action"
   ]
  },
  {
   "cell_type": "code",
   "execution_count": 5,
   "metadata": {},
   "outputs": [],
   "source": [
    "env = gym.make('MountainCar-v0')\n",
    "env._max_episode_steps = 1000\n",
    "n_games = 50000\n",
    "alpha = 0.1\n",
    "gamma = 0.99\n",
    "eps = 1.0"
   ]
  },
  {
   "cell_type": "code",
   "execution_count": 6,
   "metadata": {},
   "outputs": [],
   "source": [
    "states = []\n",
    "for pos in range(21):\n",
    "    for vel in range(21):\n",
    "        states.append((pos,vel))"
   ]
  },
  {
   "cell_type": "code",
   "execution_count": 7,
   "metadata": {},
   "outputs": [],
   "source": [
    "Q = {}\n",
    "for state in states:\n",
    "    for action in [0,1,2]:\n",
    "        Q[state, action] = 0"
   ]
  },
  {
   "cell_type": "code",
   "execution_count": 8,
   "metadata": {},
   "outputs": [],
   "source": [
    "def updateQ_SARSA(obs, action, reward, new_obs, new_action):\n",
    "    state = toDiscreteStates(obs)\n",
    "    new_state = toDiscreteStates(new_obs)\n",
    "    Q[state, action] = Q[state, action] + alpha*(reward + gamma*Q[new_state, new_action] - Q[state, action])"
   ]
  },
  {
   "cell_type": "code",
   "execution_count": 9,
   "metadata": {},
   "outputs": [
    {
     "name": "stdout",
     "output_type": "stream",
     "text": [
      "episode  100 score  -1000.0 eps  0.9600000000000044\n",
      "episode  200 score  -1000.0 eps  0.9200000000000088\n",
      "episode  300 score  -838.0 eps  0.8800000000000132\n",
      "episode  400 score  -912.0 eps  0.8400000000000176\n",
      "episode  500 score  -970.0 eps  0.800000000000022\n",
      "episode  600 score  -621.0 eps  0.7600000000000264\n",
      "episode  700 score  -1000.0 eps  0.7200000000000308\n",
      "episode  800 score  -757.0 eps  0.6800000000000352\n",
      "episode  900 score  -455.0 eps  0.6400000000000396\n",
      "episode  1000 score  -446.0 eps  0.600000000000044\n",
      "episode  1100 score  -324.0 eps  0.5600000000000485\n",
      "episode  1200 score  -515.0 eps  0.5200000000000529\n",
      "episode  1300 score  -274.0 eps  0.4800000000000545\n",
      "episode  1400 score  -206.0 eps  0.44000000000005335\n",
      "episode  1500 score  -264.0 eps  0.4000000000000522\n",
      "episode  1600 score  -240.0 eps  0.36000000000005106\n",
      "episode  1700 score  -148.0 eps  0.3200000000000499\n",
      "episode  1800 score  -242.0 eps  0.28000000000004877\n",
      "episode  1900 score  -223.0 eps  0.24000000000004762\n",
      "episode  2000 score  -151.0 eps  0.20000000000004647\n",
      "episode  2100 score  -221.0 eps  0.16000000000004533\n",
      "episode  2200 score  -157.0 eps  0.12000000000004436\n",
      "episode  2300 score  -233.0 eps  0.0800000000000446\n",
      "episode  2400 score  -152.0 eps  0.04000000000004485\n",
      "episode  2500 score  -152.0 eps  0.01\n",
      "episode  2600 score  -119.0 eps  0.01\n",
      "episode  2700 score  -203.0 eps  0.01\n",
      "episode  2800 score  -189.0 eps  0.01\n",
      "episode  2900 score  -160.0 eps  0.01\n",
      "episode  3000 score  -185.0 eps  0.01\n",
      "episode  3100 score  -222.0 eps  0.01\n",
      "episode  3200 score  -204.0 eps  0.01\n",
      "episode  3300 score  -147.0 eps  0.01\n",
      "episode  3400 score  -155.0 eps  0.01\n",
      "episode  3500 score  -133.0 eps  0.01\n",
      "episode  3600 score  -140.0 eps  0.01\n",
      "episode  3700 score  -170.0 eps  0.01\n",
      "episode  3800 score  -130.0 eps  0.01\n",
      "episode  3900 score  -133.0 eps  0.01\n",
      "episode  4000 score  -133.0 eps  0.01\n",
      "episode  4100 score  -130.0 eps  0.01\n",
      "episode  4200 score  -133.0 eps  0.01\n",
      "episode  4300 score  -133.0 eps  0.01\n",
      "episode  4400 score  -153.0 eps  0.01\n",
      "episode  4500 score  -140.0 eps  0.01\n",
      "episode  4600 score  -137.0 eps  0.01\n",
      "episode  4700 score  -140.0 eps  0.01\n",
      "episode  4800 score  -143.0 eps  0.01\n",
      "episode  4900 score  -135.0 eps  0.01\n"
     ]
    }
   ],
   "source": [
    "score = 0\n",
    "total_rewards = np.zeros(n_games)\n",
    "\n",
    "for i in range(n_games):\n",
    "    done = False\n",
    "    obs = env.reset()\n",
    "    if i % 100 == 0 and i>0:\n",
    "        print('episode ', i, 'score ', score, 'eps ', eps)\n",
    "    score = 0\n",
    "    while not done:      \n",
    "        action = get_action(Q, obs)\n",
    "        new_obs, reward, done, info = env.step(action)\n",
    "        score += reward\n",
    "        new_action = get_action(Q, new_obs)\n",
    "        updateQ_SARSA(obs, action, reward, new_obs, new_action)\n",
    "        obs = new_obs\n",
    "    total_rewards[i] = score\n",
    "    if eps > 0.01:\n",
    "        eps = eps - 2/n_games\n",
    "    else:\n",
    "        eps = 0.01"
   ]
  },
  {
   "cell_type": "code",
   "execution_count": 10,
   "metadata": {},
   "outputs": [
    {
     "data": {
      "image/png": "[encoded data removed]",
      "text/plain": [
       "<Figure size 432x288 with 1 Axes>"
      ]
     },
     "metadata": {
      "needs_background": "light"
     },
     "output_type": "display_data"
    }
   ],
   "source": [
    "mean_rewards = np.zeros(n_games)\n",
    "for r in range(n_games):\n",
    "    mean_rewards[r] = np.mean(total_rewards[max(0, r-50):(r+1)])\n",
    "plt.plot(mean_rewards)\n",
    "plt.savefig('mountaincar.png')"
   ]
  },
  {
   "cell_type": "code",
   "execution_count": null,
   "metadata": {},
   "outputs": [],
   "source": [
    "def"
   ]
  },
  {
   "cell_type": "code",
   "execution_count": null,
   "metadata": {},
   "outputs": [],
   "source": []
  }
 ],
 "metadata": {
  "kernelspec": {
   "display_name": "Python 3",
   "language": "python",
   "name": "python3"
  },
  "language_info": {
   "codemirror_mode": {
    "name": "ipython",
    "version": 3
   },
   "file_extension": ".py",
   "mimetype": "text/x-python",
   "name": "python",
   "nbconvert_exporter": "python",
   "pygments_lexer": "ipython3",
   "version": "3.8.5"
  }
 },
 "nbformat": 4,
 "nbformat_minor": 4
}
